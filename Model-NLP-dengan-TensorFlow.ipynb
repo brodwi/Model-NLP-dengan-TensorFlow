{
  "nbformat": 4,
  "nbformat_minor": 0,
  "metadata": {
    "colab": {
      "provenance": []
    },
    "kernelspec": {
      "name": "python3",
      "display_name": "Python 3"
    },
    "language_info": {
      "name": "python"
    }
  },
  "cells": [
    {
      "cell_type": "code",
      "execution_count": 1,
      "metadata": {
        "id": "odgDk5SqZCtC"
      },
      "outputs": [],
      "source": [
        "import pandas as pd\n",
        "from sklearn.model_selection import train_test_split\n",
        "from tensorflow.keras.preprocessing.text import Tokenizer\n",
        "from tensorflow.keras.preprocessing.sequence import pad_sequences\n",
        "import tensorflow as tf"
      ]
    },
    {
      "cell_type": "code",
      "source": [
        "df = pd.read_csv('/content/hotstar.csv')\n",
        "df.head"
      ],
      "metadata": {
        "colab": {
          "base_uri": "https://localhost:8080/"
        },
        "id": "lyGZ26AXgXqq",
        "outputId": "1cb4f70e-438a-4d81-cd75-b5d0d33db500"
      },
      "execution_count": 2,
      "outputs": [
        {
          "output_type": "execute_result",
          "data": {
            "text/plain": [
              "<bound method NDFrame.head of       hotstar_id                               title  \\\n",
              "0     1000232077              Ram Gopal Varma ki Aag   \n",
              "1     1000164652                             Niyogam   \n",
              "2     1000105823            Injakkadan Mathai & Sons   \n",
              "3     1000163530                    Viyarppinte Vila   \n",
              "4     1820041764                          Ek Mulaqat   \n",
              "...          ...                                 ...   \n",
              "6647  1260003841                         Anandyatree   \n",
              "6648  1260108360                    Cook Like a Chef   \n",
              "6649  1260067695  Star Kids - Daddy Daddy O My Daddy   \n",
              "6650  1260025773                     Disney's Recess   \n",
              "6651  1260001799      Ind vs WI 2018 Countdown Tamil   \n",
              "\n",
              "                                            description         genre  year  \\\n",
              "0     Dacoit Babban Singh is on the loose in Kaligan...        Action  2007   \n",
              "1     A mediator between the deity and the devotees,...         Drama  1997   \n",
              "2     Injakkadan Mathai and his sons, Roy and Thanka...        Action  1993   \n",
              "3     An impoverished landlord lives in past glory a...         Drama  1962   \n",
              "4     Two strangers, Avi and Nikita meet at a party ...       Romance  2019   \n",
              "...                                                 ...           ...   ...   \n",
              "6647  Popular Marathi singers, Suresh Wadkar, Swapni...  Concert Film  2019   \n",
              "6648  This innovative, ground-breaking series featur...          Food  2001   \n",
              "6649  Vijay TV stars and their adorable tiny tots ar...       Reality  2021   \n",
              "6650  Recess portrays the lives of six fourth-grader...        Comedy  1997   \n",
              "6651  Watch the best moments from West Indies' tour ...         Sport  2018   \n",
              "\n",
              "     age_rating  running_time  seasons  episodes   type  \n",
              "0       U/A 13+         152.0      NaN       NaN  movie  \n",
              "1       U/A 13+         101.0      NaN       NaN  movie  \n",
              "2        U/A 7+         122.0      NaN       NaN  movie  \n",
              "3             U         149.0      NaN       NaN  movie  \n",
              "4             U           7.0      NaN       NaN  movie  \n",
              "...         ...           ...      ...       ...    ...  \n",
              "6647          U           NaN      1.0       5.0     tv  \n",
              "6648    U/A 16+           NaN      1.0      39.0     tv  \n",
              "6649    U/A 13+           NaN      1.0       1.0     tv  \n",
              "6650          U           NaN      3.0      65.0     tv  \n",
              "6651          U           NaN      1.0       2.0     tv  \n",
              "\n",
              "[6652 rows x 10 columns]>"
            ]
          },
          "metadata": {},
          "execution_count": 2
        }
      ]
    },
    {
      "cell_type": "code",
      "source": [
        "df = df.drop(columns=['title'])\n",
        "df = df.drop(columns=['hotstar_id'])\n",
        "df = df.drop(columns=['year'])\n",
        "df = df.drop(columns=['age_rating'])\n",
        "df = df.drop(columns=['running_time'])\n",
        "df = df.drop(columns=['seasons'])\n",
        "df = df.drop(columns=['episodes'])\n",
        "df = df.drop(columns=['genre'])\n",
        "df.head"
      ],
      "metadata": {
        "colab": {
          "base_uri": "https://localhost:8080/"
        },
        "id": "Xqve5ilGZgnx",
        "outputId": "6078648e-036d-4db1-de91-b63704fb9546"
      },
      "execution_count": 3,
      "outputs": [
        {
          "output_type": "execute_result",
          "data": {
            "text/plain": [
              "<bound method NDFrame.head of                                             description   type\n",
              "0     Dacoit Babban Singh is on the loose in Kaligan...  movie\n",
              "1     A mediator between the deity and the devotees,...  movie\n",
              "2     Injakkadan Mathai and his sons, Roy and Thanka...  movie\n",
              "3     An impoverished landlord lives in past glory a...  movie\n",
              "4     Two strangers, Avi and Nikita meet at a party ...  movie\n",
              "...                                                 ...    ...\n",
              "6647  Popular Marathi singers, Suresh Wadkar, Swapni...     tv\n",
              "6648  This innovative, ground-breaking series featur...     tv\n",
              "6649  Vijay TV stars and their adorable tiny tots ar...     tv\n",
              "6650  Recess portrays the lives of six fourth-grader...     tv\n",
              "6651  Watch the best moments from West Indies' tour ...     tv\n",
              "\n",
              "[6652 rows x 2 columns]>"
            ]
          },
          "metadata": {},
          "execution_count": 3
        }
      ]
    },
    {
      "cell_type": "code",
      "source": [
        "df.dropna(axis=0, subset=['description', 'type'], inplace=True)\n",
        "category = pd.get_dummies(df.type)\n",
        "df_baru = pd.concat([df, category], axis=1)\n",
        "df_baru = df_baru.drop(columns='type')\n",
        "df_baru"
      ],
      "metadata": {
        "colab": {
          "base_uri": "https://localhost:8080/",
          "height": 424
        },
        "id": "7EEiWOg4Z60n",
        "outputId": "93fa47c4-a590-4c03-f9b2-edce6bd5d564"
      },
      "execution_count": 4,
      "outputs": [
        {
          "output_type": "execute_result",
          "data": {
            "text/plain": [
              "                                            description  movie  tv\n",
              "0     Dacoit Babban Singh is on the loose in Kaligan...      1   0\n",
              "1     A mediator between the deity and the devotees,...      1   0\n",
              "2     Injakkadan Mathai and his sons, Roy and Thanka...      1   0\n",
              "3     An impoverished landlord lives in past glory a...      1   0\n",
              "4     Two strangers, Avi and Nikita meet at a party ...      1   0\n",
              "...                                                 ...    ...  ..\n",
              "6647  Popular Marathi singers, Suresh Wadkar, Swapni...      0   1\n",
              "6648  This innovative, ground-breaking series featur...      0   1\n",
              "6649  Vijay TV stars and their adorable tiny tots ar...      0   1\n",
              "6650  Recess portrays the lives of six fourth-grader...      0   1\n",
              "6651  Watch the best moments from West Indies' tour ...      0   1\n",
              "\n",
              "[6652 rows x 3 columns]"
            ],
            "text/html": [
              "\n",
              "  <div id=\"df-6e6f977b-349b-49cb-b484-d748e16303f1\">\n",
              "    <div class=\"colab-df-container\">\n",
              "      <div>\n",
              "<style scoped>\n",
              "    .dataframe tbody tr th:only-of-type {\n",
              "        vertical-align: middle;\n",
              "    }\n",
              "\n",
              "    .dataframe tbody tr th {\n",
              "        vertical-align: top;\n",
              "    }\n",
              "\n",
              "    .dataframe thead th {\n",
              "        text-align: right;\n",
              "    }\n",
              "</style>\n",
              "<table border=\"1\" class=\"dataframe\">\n",
              "  <thead>\n",
              "    <tr style=\"text-align: right;\">\n",
              "      <th></th>\n",
              "      <th>description</th>\n",
              "      <th>movie</th>\n",
              "      <th>tv</th>\n",
              "    </tr>\n",
              "  </thead>\n",
              "  <tbody>\n",
              "    <tr>\n",
              "      <th>0</th>\n",
              "      <td>Dacoit Babban Singh is on the loose in Kaligan...</td>\n",
              "      <td>1</td>\n",
              "      <td>0</td>\n",
              "    </tr>\n",
              "    <tr>\n",
              "      <th>1</th>\n",
              "      <td>A mediator between the deity and the devotees,...</td>\n",
              "      <td>1</td>\n",
              "      <td>0</td>\n",
              "    </tr>\n",
              "    <tr>\n",
              "      <th>2</th>\n",
              "      <td>Injakkadan Mathai and his sons, Roy and Thanka...</td>\n",
              "      <td>1</td>\n",
              "      <td>0</td>\n",
              "    </tr>\n",
              "    <tr>\n",
              "      <th>3</th>\n",
              "      <td>An impoverished landlord lives in past glory a...</td>\n",
              "      <td>1</td>\n",
              "      <td>0</td>\n",
              "    </tr>\n",
              "    <tr>\n",
              "      <th>4</th>\n",
              "      <td>Two strangers, Avi and Nikita meet at a party ...</td>\n",
              "      <td>1</td>\n",
              "      <td>0</td>\n",
              "    </tr>\n",
              "    <tr>\n",
              "      <th>...</th>\n",
              "      <td>...</td>\n",
              "      <td>...</td>\n",
              "      <td>...</td>\n",
              "    </tr>\n",
              "    <tr>\n",
              "      <th>6647</th>\n",
              "      <td>Popular Marathi singers, Suresh Wadkar, Swapni...</td>\n",
              "      <td>0</td>\n",
              "      <td>1</td>\n",
              "    </tr>\n",
              "    <tr>\n",
              "      <th>6648</th>\n",
              "      <td>This innovative, ground-breaking series featur...</td>\n",
              "      <td>0</td>\n",
              "      <td>1</td>\n",
              "    </tr>\n",
              "    <tr>\n",
              "      <th>6649</th>\n",
              "      <td>Vijay TV stars and their adorable tiny tots ar...</td>\n",
              "      <td>0</td>\n",
              "      <td>1</td>\n",
              "    </tr>\n",
              "    <tr>\n",
              "      <th>6650</th>\n",
              "      <td>Recess portrays the lives of six fourth-grader...</td>\n",
              "      <td>0</td>\n",
              "      <td>1</td>\n",
              "    </tr>\n",
              "    <tr>\n",
              "      <th>6651</th>\n",
              "      <td>Watch the best moments from West Indies' tour ...</td>\n",
              "      <td>0</td>\n",
              "      <td>1</td>\n",
              "    </tr>\n",
              "  </tbody>\n",
              "</table>\n",
              "<p>6652 rows × 3 columns</p>\n",
              "</div>\n",
              "      <button class=\"colab-df-convert\" onclick=\"convertToInteractive('df-6e6f977b-349b-49cb-b484-d748e16303f1')\"\n",
              "              title=\"Convert this dataframe to an interactive table.\"\n",
              "              style=\"display:none;\">\n",
              "        \n",
              "  <svg xmlns=\"http://www.w3.org/2000/svg\" height=\"24px\"viewBox=\"0 0 24 24\"\n",
              "       width=\"24px\">\n",
              "    <path d=\"M0 0h24v24H0V0z\" fill=\"none\"/>\n",
              "    <path d=\"M18.56 5.44l.94 2.06.94-2.06 2.06-.94-2.06-.94-.94-2.06-.94 2.06-2.06.94zm-11 1L8.5 8.5l.94-2.06 2.06-.94-2.06-.94L8.5 2.5l-.94 2.06-2.06.94zm10 10l.94 2.06.94-2.06 2.06-.94-2.06-.94-.94-2.06-.94 2.06-2.06.94z\"/><path d=\"M17.41 7.96l-1.37-1.37c-.4-.4-.92-.59-1.43-.59-.52 0-1.04.2-1.43.59L10.3 9.45l-7.72 7.72c-.78.78-.78 2.05 0 2.83L4 21.41c.39.39.9.59 1.41.59.51 0 1.02-.2 1.41-.59l7.78-7.78 2.81-2.81c.8-.78.8-2.07 0-2.86zM5.41 20L4 18.59l7.72-7.72 1.47 1.35L5.41 20z\"/>\n",
              "  </svg>\n",
              "      </button>\n",
              "      \n",
              "  <style>\n",
              "    .colab-df-container {\n",
              "      display:flex;\n",
              "      flex-wrap:wrap;\n",
              "      gap: 12px;\n",
              "    }\n",
              "\n",
              "    .colab-df-convert {\n",
              "      background-color: #E8F0FE;\n",
              "      border: none;\n",
              "      border-radius: 50%;\n",
              "      cursor: pointer;\n",
              "      display: none;\n",
              "      fill: #1967D2;\n",
              "      height: 32px;\n",
              "      padding: 0 0 0 0;\n",
              "      width: 32px;\n",
              "    }\n",
              "\n",
              "    .colab-df-convert:hover {\n",
              "      background-color: #E2EBFA;\n",
              "      box-shadow: 0px 1px 2px rgba(60, 64, 67, 0.3), 0px 1px 3px 1px rgba(60, 64, 67, 0.15);\n",
              "      fill: #174EA6;\n",
              "    }\n",
              "\n",
              "    [theme=dark] .colab-df-convert {\n",
              "      background-color: #3B4455;\n",
              "      fill: #D2E3FC;\n",
              "    }\n",
              "\n",
              "    [theme=dark] .colab-df-convert:hover {\n",
              "      background-color: #434B5C;\n",
              "      box-shadow: 0px 1px 3px 1px rgba(0, 0, 0, 0.15);\n",
              "      filter: drop-shadow(0px 1px 2px rgba(0, 0, 0, 0.3));\n",
              "      fill: #FFFFFF;\n",
              "    }\n",
              "  </style>\n",
              "\n",
              "      <script>\n",
              "        const buttonEl =\n",
              "          document.querySelector('#df-6e6f977b-349b-49cb-b484-d748e16303f1 button.colab-df-convert');\n",
              "        buttonEl.style.display =\n",
              "          google.colab.kernel.accessAllowed ? 'block' : 'none';\n",
              "\n",
              "        async function convertToInteractive(key) {\n",
              "          const element = document.querySelector('#df-6e6f977b-349b-49cb-b484-d748e16303f1');\n",
              "          const dataTable =\n",
              "            await google.colab.kernel.invokeFunction('convertToInteractive',\n",
              "                                                     [key], {});\n",
              "          if (!dataTable) return;\n",
              "\n",
              "          const docLinkHtml = 'Like what you see? Visit the ' +\n",
              "            '<a target=\"_blank\" href=https://colab.research.google.com/notebooks/data_table.ipynb>data table notebook</a>'\n",
              "            + ' to learn more about interactive tables.';\n",
              "          element.innerHTML = '';\n",
              "          dataTable['output_type'] = 'display_data';\n",
              "          await google.colab.output.renderOutput(dataTable, element);\n",
              "          const docLink = document.createElement('div');\n",
              "          docLink.innerHTML = docLinkHtml;\n",
              "          element.appendChild(docLink);\n",
              "        }\n",
              "      </script>\n",
              "    </div>\n",
              "  </div>\n",
              "  "
            ]
          },
          "metadata": {},
          "execution_count": 4
        }
      ]
    },
    {
      "cell_type": "code",
      "source": [
        "deskripsi = df_baru['description'].values\n",
        "label = df_baru[['movie', 'tv']].values"
      ],
      "metadata": {
        "id": "O40IeoiMaNKY"
      },
      "execution_count": 5,
      "outputs": []
    },
    {
      "cell_type": "code",
      "source": [
        "deskripsi_latih, deskripsi_test, label_latih, label_test = train_test_split(deskripsi, label, test_size=0.2)"
      ],
      "metadata": {
        "id": "ffjM7g8ybbnq"
      },
      "execution_count": 6,
      "outputs": []
    },
    {
      "cell_type": "code",
      "source": [
        "tokenizer = Tokenizer(num_words=5000, oov_token='<oov>', filters ='!\"#$%()*+,-./:;<=>?@[\\]^_`{|}~', lower=True) \n",
        "tokenizer.fit_on_texts(deskripsi_latih) \n",
        "tokenizer.fit_on_texts(deskripsi_test)\n",
        " \n",
        "sekuens_latih = tokenizer.texts_to_sequences(deskripsi_latih)\n",
        "sekuens_test = tokenizer.texts_to_sequences(deskripsi_test)\n",
        " \n",
        "padded_latih = pad_sequences(sekuens_latih) \n",
        "padded_test = pad_sequences(sekuens_test)"
      ],
      "metadata": {
        "id": "vXcfNssPbeKy"
      },
      "execution_count": 7,
      "outputs": []
    },
    {
      "cell_type": "code",
      "source": [
        "model = tf.keras.Sequential([\n",
        "    tf.keras.layers.Embedding(input_dim=5000, output_dim=16),\n",
        "    tf.keras.layers.LSTM(64),\n",
        "    tf.keras.layers.Dense(64, activation='relu'),\n",
        "    tf.keras.layers.Dropout(0.2),\n",
        "    tf.keras.layers.Dense(32, activation='relu'),\n",
        "    tf.keras.layers.Dropout(0.5),\n",
        "    tf.keras.layers.Dense(2, activation='softmax')\n",
        "])\n",
        "model.compile(loss='categorical_crossentropy',optimizer='adam',metrics=['accuracy'])"
      ],
      "metadata": {
        "id": "ApBqeWw9bggE"
      },
      "execution_count": 8,
      "outputs": []
    },
    {
      "cell_type": "code",
      "source": [
        "class myCallback(tf.keras.callbacks.Callback):\n",
        "\n",
        "  def on_epoch_end(self, epoch, logs={}):\n",
        "\n",
        "    if(logs.get('accuracy') > 0.75  and logs.get('val_accuracy') > 0.75 ):  \n",
        "\n",
        "      print(\"\\nAkurasi dan validasi telah mencapai >75%!\")\n",
        "\n",
        "      self.model.stop_training = True\n",
        "\n",
        "callbacks = myCallback()"
      ],
      "metadata": {
        "id": "t3zcTBE0bjkU"
      },
      "execution_count": 9,
      "outputs": []
    },
    {
      "cell_type": "code",
      "source": [
        "num_epochs = 30\n",
        "history = model.fit(padded_latih, label_latih, epochs=num_epochs, \n",
        "                    validation_data=(padded_test, label_test), verbose=2, callbacks=[callbacks])"
      ],
      "metadata": {
        "colab": {
          "base_uri": "https://localhost:8080/"
        },
        "id": "sKSym3jpb6c6",
        "outputId": "928e55be-f4de-4086-a899-59f4e934dfbd"
      },
      "execution_count": 10,
      "outputs": [
        {
          "output_type": "stream",
          "name": "stdout",
          "text": [
            "Epoch 1/30\n",
            "167/167 - 20s - loss: 0.5524 - accuracy: 0.7247 - val_loss: 0.4395 - val_accuracy: 0.7956 - 20s/epoch - 119ms/step\n",
            "Epoch 2/30\n",
            "\n",
            "Akurasi dan validasi telah mencapai >75%!\n",
            "167/167 - 10s - loss: 0.3358 - accuracy: 0.8581 - val_loss: 0.5154 - val_accuracy: 0.7941 - 10s/epoch - 62ms/step\n"
          ]
        }
      ]
    }
  ]
}